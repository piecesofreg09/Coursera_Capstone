{
 "cells": [
  {
   "cell_type": "code",
   "execution_count": 2,
   "metadata": {},
   "outputs": [
    {
     "data": {
      "text/plain": [
       "{'ALLUSERSPROFILE': 'C:\\\\ProgramData',\n",
       " 'APPDATA': 'C:\\\\Users\\\\hlu82\\\\AppData\\\\Roaming',\n",
       " 'BURN_AUTOPLAY': 'C:\\\\Program Files (x86)\\\\Roxio\\\\OEM\\\\Roxio Burn\\\\',\n",
       " 'CHOCOLATEYINSTALL': 'C:\\\\ProgramData\\\\chocolatey',\n",
       " 'CHOCOLATEYLASTPATHUPDATE': '132004379960558446',\n",
       " 'COMMONPROGRAMFILES': 'C:\\\\Program Files\\\\Common Files',\n",
       " 'COMMONPROGRAMFILES(X86)': 'C:\\\\Program Files (x86)\\\\Common Files',\n",
       " 'COMMONPROGRAMW6432': 'C:\\\\Program Files\\\\Common Files',\n",
       " 'COMPUTERNAME': 'MOLI7217',\n",
       " 'COMSPEC': 'C:\\\\Windows\\\\system32\\\\cmd.exe',\n",
       " 'EMC_AUTOPLAY': 'C:\\\\Program Files (x86)\\\\Common Files\\\\Roxio Shared\\\\OEM\\\\',\n",
       " 'FP_NO_HOST_CHECK': 'NO',\n",
       " 'FS_ID': 'A4RT0PUHG5XOK41LNFS0ER2T3JCEJLZY0RM2PS4KK245NCJE',\n",
       " 'FS_SECRET': 'AFYFZXUFYKZFRMSRVDLVVXZ3GM23KRNRYU2EF2VU3GHEFH5Y',\n",
       " 'GTK_BASEPATH': 'C:\\\\Program Files (x86)\\\\GtkSharp\\\\2.12\\\\',\n",
       " 'HOMEDRIVE': 'C:',\n",
       " 'HOMEPATH': '\\\\Users\\\\hlu82',\n",
       " 'LAMMPS_POTENTIALS': 'D:\\\\Program Files\\\\LAMMPS 64-bit 20170127\\\\Potentials',\n",
       " 'LOCALAPPDATA': 'C:\\\\Users\\\\hlu82\\\\AppData\\\\Local',\n",
       " 'LOGONSERVER': '\\\\\\\\GTAD06',\n",
       " 'MSI2LMP_LIBRARY': 'D:\\\\Program Files\\\\LAMMPS 64-bit 20170127\\\\frc_files',\n",
       " 'NUMBER_OF_PROCESSORS': '4',\n",
       " 'ONEDRIVE': 'D:\\\\ALL\\\\OneDrive\\\\OneDrive - Georgia Institute of Technology',\n",
       " 'ONEDRIVECOMMERCIAL': 'D:\\\\ALL\\\\OneDrive\\\\OneDrive - Georgia Institute of Technology',\n",
       " 'OS': 'Windows_NT',\n",
       " 'PATH': 'C:\\\\Program Files (x86)\\\\Common Files\\\\Oracle\\\\Java\\\\javapath;C:\\\\Program Files\\\\Haskell\\\\bin;D:\\\\Program Files\\\\Haskell Platform\\\\8.4.2\\\\lib\\\\extralibs\\\\bin;D:\\\\Program Files\\\\Haskell Platform\\\\8.4.2\\\\bin;C:\\\\Program Files (x86)\\\\Microsoft SDKs\\\\Azure\\\\CLI2\\\\wbin;C:\\\\Program Files\\\\Common Files\\\\Microsoft Shared\\\\Windows Live;C:\\\\Program Files (x86)\\\\Common Files\\\\Microsoft Shared\\\\Windows Live;C:\\\\ProgramData\\\\Oracle\\\\Java\\\\javapath;C:\\\\Program Files (x86)\\\\Intel\\\\iCLS Client\\\\;C:\\\\Program Files\\\\Intel\\\\iCLS Client\\\\;C:\\\\Windows\\\\system32;C:\\\\Windows;C:\\\\Windows\\\\System32\\\\Wbem;C:\\\\Program Files (x86)\\\\Common Files\\\\Roxio Shared\\\\DLLShared\\\\;C:\\\\Program Files (x86)\\\\Common Files\\\\Roxio Shared\\\\10.0\\\\DLLShared\\\\;C:\\\\Program Files (x86)\\\\Common Files\\\\SYSTEM\\\\MSMAPI\\\\1033;C:\\\\Program Files (x86)\\\\Common Files\\\\Roxio Shared\\\\OEM\\\\DLLShared\\\\;C:\\\\Program Files (x86)\\\\Common Files\\\\Roxio Shared\\\\OEM\\\\DLLShared\\\\;C:\\\\Program Files (x86)\\\\Common Files\\\\Roxio Shared\\\\OEM\\\\12.0\\\\DLLShared\\\\;C:\\\\Program Files (x86)\\\\Roxio\\\\OEM\\\\AudioCore\\\\;C:\\\\Program Files (x86)\\\\ATI Technologies\\\\ATI.ACE\\\\Core-Static;C:\\\\Program Files\\\\Intel\\\\Intel(R) Management Engine Components\\\\DAL;C:\\\\Program Files (x86)\\\\Intel\\\\Intel(R) Management Engine Components\\\\DAL;C:\\\\Program Files\\\\Intel\\\\Intel(R) Management Engine Components\\\\IPT;C:\\\\Program Files (x86)\\\\Intel\\\\Intel(R) Management Engine Components\\\\IPT;C:\\\\Program Files (x86)\\\\GtkSharp\\\\2.12\\\\bin;C:\\\\Program Files (x86)\\\\Windows Live\\\\Shared;C:\\\\Program Files (x86)\\\\Skype\\\\Phone\\\\;D:\\\\Program Files (x86)\\\\Silverfrost\\\\FTN95;D:\\\\Program Files\\\\MATLAB\\\\R2017a\\\\runtime\\\\win64;D:\\\\Program Files\\\\MATLAB\\\\R2017a\\\\bin;D:\\\\Program Files\\\\MiKTeX 2.9\\\\miktex\\\\bin\\\\x64\\\\;D:\\\\sqlite;C:\\\\Program Files\\\\IDM Computer Solutions\\\\UltraEdit;D:\\\\Program Files\\\\Haskell Platform\\\\8.4.2\\\\mingw\\\\bin;C:\\\\Windows\\\\System32\\\\WindowsPowerShell\\\\v1.0\\\\;C:\\\\Windows\\\\System32\\\\WindowsPowerShell\\\\v1.0\\\\;D:\\\\Program Files\\\\Git\\\\cmd;D:\\\\Program Files (x86)\\\\QuickTime\\\\QTSystem\\\\;C:\\\\ProgramData\\\\chocolatey\\\\bin;;C:\\\\Windows\\\\System32\\\\WindowsPowerShell\\\\v1.0\\\\;C:\\\\Program Files\\\\kubectl;C:\\\\Program Files\\\\helm\\\\windows-amd64;C:\\\\Program Files\\\\IBM\\\\Cloud\\\\bin;D:\\\\Program Files\\\\PuTTY\\\\;C:\\\\Users\\\\hlu82\\\\AppData\\\\Roaming\\\\cabal\\\\bin;C:\\\\Users\\\\hlu82\\\\AppData\\\\Roaming\\\\local\\\\bin;C:\\\\Users\\\\hlu82\\\\AppData\\\\Local\\\\Programs\\\\Python\\\\Python36\\\\Scripts\\\\;C:\\\\Users\\\\hlu82\\\\AppData\\\\Local\\\\Programs\\\\Python\\\\Python36\\\\;D:\\\\Program Files (x86)\\\\SSH Communications Security\\\\SSH Secure Shell;C:\\\\Program Files\\\\MPICH2\\\\bin;D:\\\\Program Files\\\\LAMMPS 64-bit 20170127\\\\bin;D:\\\\cygnus\\\\cygwin-b20\\\\H-i586-cygwin32\\\\bin;C:\\\\Users\\\\hlu82\\\\AppData\\\\Local\\\\atom\\\\bin;C:\\\\Users\\\\hlu82\\\\AppData\\\\Local\\\\GitHubDesktop\\\\bin;C:\\\\pypy3-v5.10.1-win32\\\\;C:\\\\pypy2-v5.10.0-win32\\\\;D:\\\\Program Files\\\\R\\\\R-3.5.3\\\\bin\\\\x64\\\\;D:\\\\Program Files\\\\JetBrains\\\\PyCharm Community Edition 2019.1\\\\bin;',\n",
       " 'PATHEXT': '.COM;.EXE;.BAT;.CMD;.VBS;.VBE;.JS;.JSE;.WSF;.WSH;.MSC',\n",
       " 'PROCESSOR_ARCHITECTURE': 'AMD64',\n",
       " 'PROCESSOR_IDENTIFIER': 'Intel64 Family 6 Model 63 Stepping 2, GenuineIntel',\n",
       " 'PROCESSOR_LEVEL': '6',\n",
       " 'PROCESSOR_REVISION': '3f02',\n",
       " 'PROGRAMDATA': 'C:\\\\ProgramData',\n",
       " 'PROGRAMFILES': 'C:\\\\Program Files',\n",
       " 'PROGRAMFILES(X86)': 'C:\\\\Program Files (x86)',\n",
       " 'PROGRAMW6432': 'C:\\\\Program Files',\n",
       " 'PROMPT': '$P$G',\n",
       " 'PSMODULEPATH': 'C:\\\\Windows\\\\system32\\\\WindowsPowerShell\\\\v1.0\\\\Modules\\\\;c:\\\\Program Files\\\\Microsoft Security Client\\\\MpProvider\\\\',\n",
       " 'PUBLIC': 'C:\\\\Users\\\\Public',\n",
       " 'PYCHARM COMMUNITY EDITION': 'D:\\\\Program Files\\\\JetBrains\\\\PyCharm Community Edition 2019.1\\\\bin;',\n",
       " 'RCAUTOPLAY': 'C:\\\\Program Files (x86)\\\\Roxio\\\\OEM\\\\Roxio Central 5\\\\',\n",
       " 'ROXIOCENTRAL': 'C:\\\\Program Files (x86)\\\\Common Files\\\\Roxio Shared\\\\10.0\\\\Roxio Central36\\\\',\n",
       " 'SESSIONNAME': 'Console',\n",
       " 'STACK_ROOT': 'C:\\\\sr',\n",
       " 'SYSTEMDRIVE': 'C:',\n",
       " 'SYSTEMROOT': 'C:\\\\Windows',\n",
       " 'TEMP': 'C:\\\\Users\\\\hlu82\\\\AppData\\\\Local\\\\Temp',\n",
       " 'TMP': 'C:\\\\Users\\\\hlu82\\\\AppData\\\\Local\\\\Temp',\n",
       " 'TVT': 'C:\\\\Program Files (x86)\\\\Lenovo',\n",
       " 'UATDATA': 'C:\\\\Windows\\\\CCM\\\\UATData\\\\D9F8C395-CAB8-491d-B8AC-179A1FE1BE77',\n",
       " 'USERDNSDOMAIN': 'AD.GATECH.EDU',\n",
       " 'USERDOMAIN': 'AD',\n",
       " 'USERNAME': 'hlu82',\n",
       " 'USERPROFILE': 'C:\\\\Users\\\\hlu82',\n",
       " 'VBOX_MSI_INSTALL_PATH': 'D:\\\\Program Files\\\\Oracle\\\\VirtualBox\\\\',\n",
       " 'VS140COMNTOOLS': 'C:\\\\Program Files (x86)\\\\Microsoft Visual Studio 14.0\\\\Common7\\\\Tools\\\\',\n",
       " 'WINDIR': 'C:\\\\Windows',\n",
       " 'JPY_INTERRUPT_EVENT': '668',\n",
       " 'IPY_INTERRUPT_EVENT': '668',\n",
       " 'JPY_PARENT_PID': '640',\n",
       " 'TERM': 'xterm-color',\n",
       " 'CLICOLOR': '1',\n",
       " 'PAGER': 'cat',\n",
       " 'GIT_PAGER': 'cat',\n",
       " 'MPLBACKEND': 'module://ipykernel.pylab.backend_inline'}"
      ]
     },
     "execution_count": 2,
     "metadata": {},
     "output_type": "execute_result"
    }
   ],
   "source": [
    "%env"
   ]
  },
  {
   "cell_type": "code",
   "execution_count": null,
   "metadata": {},
   "outputs": [],
   "source": []
  }
 ],
 "metadata": {
  "kernelspec": {
   "display_name": "Python 3",
   "language": "python",
   "name": "python3"
  },
  "language_info": {
   "codemirror_mode": {
    "name": "ipython",
    "version": 3
   },
   "file_extension": ".py",
   "mimetype": "text/x-python",
   "name": "python",
   "nbconvert_exporter": "python",
   "pygments_lexer": "ipython3",
   "version": "3.6.2rc1"
  }
 },
 "nbformat": 4,
 "nbformat_minor": 2
}
